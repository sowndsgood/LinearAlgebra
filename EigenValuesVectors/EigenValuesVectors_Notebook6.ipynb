{
  "nbformat": 4,
  "nbformat_minor": 0,
  "metadata": {
    "colab": {
      "provenance": [],
      "authorship_tag": "ABX9TyOMCsz6caI/z+SkaTydQ8h4",
      "include_colab_link": true
    },
    "kernelspec": {
      "name": "python3",
      "display_name": "Python 3"
    },
    "language_info": {
      "name": "python"
    }
  },
  "cells": [
    {
      "cell_type": "markdown",
      "metadata": {
        "id": "view-in-github",
        "colab_type": "text"
      },
      "source": [
        "<a href=\"https://colab.research.google.com/github/sowndsgood/LinearAlgebra/blob/main/EigenValuesVectors/EigenValuesVectors_Notebook6.ipynb\" target=\"_parent\"><img src=\"https://colab.research.google.com/assets/colab-badge.svg\" alt=\"Open In Colab\"/></a>"
      ]
    },
    {
      "cell_type": "markdown",
      "source": [
        "When a user starts navigating from Page 1 and reaches Page 4 in the provided transition matrix:\n",
        "1. The user cannot reach Page 4 from Page 1 as there is no direct link (transition probability is \\(0\\)).\n",
        "2. Once the user reaches Page 4, there are no outgoing links (transition probabilities to other pages are all \\(0\\)).\n",
        "3. Therefore, the user becomes stuck on Page 4 and cannot navigate further.\n",
        "\n",
        "Similarly, Page 7 suffers from the same problem as Page 4, as there are no outgoing links from Page 7, meaning once the user reaches Page 7, they cannot navigate further.\n",
        "\n",
        "In summary, when the user reaches Page 4, they get stuck on that page, and Page 7 also poses the same problem."
      ],
      "metadata": {
        "id": "YTFrB9q_guzG"
      }
    },
    {
      "cell_type": "code",
      "source": [
        "import numpy as np"
      ],
      "metadata": {
        "id": "dZ8OufXKsrLj"
      },
      "execution_count": 13,
      "outputs": []
    },
    {
      "cell_type": "code",
      "source": [
        "# Define the transition probability matrix P\n",
        "P = np.array([\n",
        "    [0, 1/2, 0, 0, 0, 0, 0],\n",
        "    [0, 0, 1/3, 0, 1/2, 0, 0],\n",
        "    [1, 0, 0, 0, 0, 1/3, 0],\n",
        "    [0, 0, 1/3, 1, 0, 0, 0],\n",
        "    [0, 1/2, 0, 0, 0, 1/3, 0],\n",
        "    [0, 0, 1/3, 0, 1/2, 0, 0],\n",
        "    [0, 0, 0, 0, 0, 1/3, 1]\n",
        "])\n",
        "\n",
        "print(\"Transition Probability Matrix P:\\n\", P)"
      ],
      "metadata": {
        "colab": {
          "base_uri": "https://localhost:8080/"
        },
        "id": "LdSvEVX6tEZb",
        "outputId": "25f68f1d-34aa-4376-b843-1ad27675ebe0"
      },
      "execution_count": 14,
      "outputs": [
        {
          "output_type": "stream",
          "name": "stdout",
          "text": [
            "Transition Probability Matrix P:\n",
            " [[0.         0.5        0.         0.         0.         0.\n",
            "  0.        ]\n",
            " [0.         0.         0.33333333 0.         0.5        0.\n",
            "  0.        ]\n",
            " [1.         0.         0.         0.         0.         0.33333333\n",
            "  0.        ]\n",
            " [0.         0.         0.33333333 1.         0.         0.\n",
            "  0.        ]\n",
            " [0.         0.5        0.         0.         0.         0.33333333\n",
            "  0.        ]\n",
            " [0.         0.         0.33333333 0.         0.5        0.\n",
            "  0.        ]\n",
            " [0.         0.         0.         0.         0.         0.33333333\n",
            "  1.        ]]\n"
          ]
        }
      ]
    },
    {
      "cell_type": "code",
      "source": [
        "# Get the number of rows\n",
        "n = len(P)\n",
        "\n",
        "# Find the indices of dangling nodes (where the diagonal element is 1)\n",
        "dangling_indices = np.where(np.diag(P) == 1)[0]\n",
        "\n",
        "# Replace the entire columns of dangling nodes with 1/n\n",
        "P[:, dangling_indices] = 1/n\n",
        "\n",
        "print(\"Transition Probability Matrix P:\\n\", P)"
      ],
      "metadata": {
        "colab": {
          "base_uri": "https://localhost:8080/"
        },
        "id": "m7LEJMButJ5k",
        "outputId": "d96d960d-9609-439b-ae82-a27ef548772c"
      },
      "execution_count": 16,
      "outputs": [
        {
          "output_type": "stream",
          "name": "stdout",
          "text": [
            "Transition Probability Matrix P:\n",
            " [[0.         0.5        0.         0.14285714 0.         0.\n",
            "  0.14285714]\n",
            " [0.         0.         0.33333333 0.14285714 0.5        0.\n",
            "  0.14285714]\n",
            " [1.         0.         0.         0.14285714 0.         0.33333333\n",
            "  0.14285714]\n",
            " [0.         0.         0.33333333 0.14285714 0.         0.\n",
            "  0.14285714]\n",
            " [0.         0.5        0.         0.14285714 0.         0.33333333\n",
            "  0.14285714]\n",
            " [0.         0.         0.33333333 0.14285714 0.5        0.\n",
            "  0.14285714]\n",
            " [0.         0.         0.         0.14285714 0.         0.33333333\n",
            "  0.14285714]]\n"
          ]
        }
      ]
    },
    {
      "cell_type": "code",
      "source": [
        "# Probability damping factor\n",
        "p = 0.9\n",
        "\n",
        "# Get the number of rows\n",
        "n = len(P)\n",
        "\n",
        "# Construct the Google Matrix G\n",
        "K = (1/n) * np.ones((n, n))\n",
        "G = p * P  + (1 - p) * K\n",
        "\n",
        "print(\"Google Matrix:\\n\", G)"
      ],
      "metadata": {
        "colab": {
          "base_uri": "https://localhost:8080/"
        },
        "id": "4Dfdm5Ynt7cC",
        "outputId": "bd76433a-845c-4b8a-e9ef-fcc05d5737c3"
      },
      "execution_count": 17,
      "outputs": [
        {
          "output_type": "stream",
          "name": "stdout",
          "text": [
            "Google Matrix:\n",
            " [[0.01428571 0.46428571 0.01428571 0.14285714 0.01428571 0.01428571\n",
            "  0.14285714]\n",
            " [0.01428571 0.01428571 0.31428571 0.14285714 0.46428571 0.01428571\n",
            "  0.14285714]\n",
            " [0.91428571 0.01428571 0.01428571 0.14285714 0.01428571 0.31428571\n",
            "  0.14285714]\n",
            " [0.01428571 0.01428571 0.31428571 0.14285714 0.01428571 0.01428571\n",
            "  0.14285714]\n",
            " [0.01428571 0.46428571 0.01428571 0.14285714 0.01428571 0.31428571\n",
            "  0.14285714]\n",
            " [0.01428571 0.01428571 0.31428571 0.14285714 0.46428571 0.01428571\n",
            "  0.14285714]\n",
            " [0.01428571 0.01428571 0.01428571 0.14285714 0.01428571 0.31428571\n",
            "  0.14285714]]\n"
          ]
        }
      ]
    }
  ]
}